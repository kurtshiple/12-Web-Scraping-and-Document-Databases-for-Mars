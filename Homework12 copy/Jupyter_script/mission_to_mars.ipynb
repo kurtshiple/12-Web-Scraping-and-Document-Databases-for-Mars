{
 "cells": [
  {
   "cell_type": "code",
   "execution_count": 1,
   "metadata": {},
   "outputs": [],
   "source": [
    "import requests\n",
    "\n",
    "from bs4 import BeautifulSoup\n",
    "\n",
    "import pandas as pd"
   ]
  },
  {
   "cell_type": "markdown",
   "metadata": {},
   "source": [
    "# NASA Mars News"
   ]
  },
  {
   "cell_type": "code",
   "execution_count": 2,
   "metadata": {},
   "outputs": [
    {
     "name": "stdout",
     "output_type": "stream",
     "text": [
      "<div class=\"image_and_description_container\">\n",
      " <a href=\"/news/8436/why-this-martian-full-moon-looks-like-candy/\">\n",
      "  <div class=\"rollover_description\">\n",
      "   <div class=\"rollover_description_inner\">\n",
      "    For the first time, NASA's Mars Odyssey orbiter has caught the Martian moon Phobos during a full moon phase. Each color in this new image represents a temperature range detected by Odyssey's infrared camera.\n",
      "   </div>\n",
      "   <div class=\"overlay_arrow\">\n",
      "    <img alt=\"More\" src=\"/assets/overlay-arrow.png\"/>\n",
      "   </div>\n",
      "  </div>\n",
      "  <img alt=\"Why This Martian Full Moon Looks Like Candy\" class=\"img-lazy\" data-lazy=\"/system/news_items/list_view_images/8436_PIA23205_annotated-32x24.jpg\" src=\"/assets/loading_320x240.png\"/>\n",
      " </a>\n",
      "</div>\n",
      "\n"
     ]
    }
   ],
   "source": [
    "page = requests.get(\"https://mars.nasa.gov/news/?page=0&per_page=40&order=publish_date+desc%2Ccreated_at+desc&search=&category=19%2C165%2C184%2C204&blank_scope=Latest\")\n",
    "soup = BeautifulSoup(page.content, 'html.parser')\n",
    "articles = soup.find(class_=\"image_and_description_container\")\n",
    "first_article = articles\n",
    "data = first_article.prettify()\n",
    "print(data)\n"
   ]
  },
  {
   "cell_type": "code",
   "execution_count": 3,
   "metadata": {
    "scrolled": true
   },
   "outputs": [
    {
     "name": "stdout",
     "output_type": "stream",
     "text": [
      "\n",
      "For the first time, NASA's Mars Odyssey orbiter has caught the Martian moon Phobos during a full moon phase. Each color in this new image represents a temperature range detected by Odyssey's infrared camera.\n",
      "\n"
     ]
    }
   ],
   "source": [
    "\n",
    "news_paragraph = first_article.find(class_=\"rollover_description_inner\").get_text()\n",
    "print(news_paragraph)"
   ]
  },
  {
   "cell_type": "code",
   "execution_count": 4,
   "metadata": {},
   "outputs": [
    {
     "data": {
      "text/plain": [
       "'Why This Martian Full Moon Looks Like Candy'"
      ]
     },
     "execution_count": 4,
     "metadata": {},
     "output_type": "execute_result"
    }
   ],
   "source": [
    "imgs = first_article.find_all(\"img\")\n",
    "\n",
    "img = imgs[1]  \n",
    "news_title = img[\"alt\"]\n",
    "news_title"
   ]
  },
  {
   "cell_type": "markdown",
   "metadata": {},
   "source": [
    "# Data"
   ]
  },
  {
   "cell_type": "code",
   "execution_count": 5,
   "metadata": {},
   "outputs": [
    {
     "data": {
      "text/plain": [
       "\"\\nFor the first time, NASA's Mars Odyssey orbiter has caught the Martian moon Phobos during a full moon phase. Each color in this new image represents a temperature range detected by Odyssey's infrared camera.\\n\""
      ]
     },
     "execution_count": 5,
     "metadata": {},
     "output_type": "execute_result"
    }
   ],
   "source": [
    "news_paragraph"
   ]
  },
  {
   "cell_type": "code",
   "execution_count": 6,
   "metadata": {},
   "outputs": [
    {
     "data": {
      "text/plain": [
       "'Why This Martian Full Moon Looks Like Candy'"
      ]
     },
     "execution_count": 6,
     "metadata": {},
     "output_type": "execute_result"
    }
   ],
   "source": [
    "news_title"
   ]
  },
  {
   "cell_type": "markdown",
   "metadata": {},
   "source": [
    "# JPL Mars Space Images - Featured Image"
   ]
  },
  {
   "cell_type": "code",
   "execution_count": 7,
   "metadata": {},
   "outputs": [],
   "source": [
    "from splinter import Browser"
   ]
  },
  {
   "cell_type": "code",
   "execution_count": 8,
   "metadata": {},
   "outputs": [
    {
     "name": "stdout",
     "output_type": "stream",
     "text": [
      "/usr/local/bin/chromedriver\r\n"
     ]
    }
   ],
   "source": [
    "!which chromedriver"
   ]
  },
  {
   "cell_type": "code",
   "execution_count": 9,
   "metadata": {},
   "outputs": [],
   "source": [
    "from splinter import Browser\n",
    "browser = Browser('chrome')\n"
   ]
  },
  {
   "cell_type": "code",
   "execution_count": 10,
   "metadata": {},
   "outputs": [],
   "source": [
    "browser.visit('https://www.jpl.nasa.gov/spaceimages/?search=&category=Mars')"
   ]
  },
  {
   "cell_type": "code",
   "execution_count": 11,
   "metadata": {},
   "outputs": [
    {
     "data": {
      "text/plain": [
       "[<div class=\"carousel_items\">\n",
       " <article alt=\"Jewel of the Solar System\" class=\"carousel_item\" style=\"background-image: url('/spaceimages/images/wallpaper/PIA17474-1920x1200.jpg');\">\n",
       " <div class=\"default floating_text_area ms-layer\">\n",
       " <h2 class=\"category_title\">\n",
       " </h2>\n",
       " <h2 class=\"brand_title\">\n",
       " \t\t\t\t  FEATURED IMAGE\n",
       " \t\t\t\t</h2>\n",
       " <h1 class=\"media_feature_title\">\n",
       " \t\t\t\t  Jewel of the Solar System\t\t\t\t</h1>\n",
       " <div class=\"description\">\n",
       " </div>\n",
       " <footer>\n",
       " <a class=\"button fancybox\" data-description=\"A swing high above Saturn by NASA's Cassini spacecraft revealed this stately view of the golden-hued planet and its main rings. Saturn sports differently colored bands of weather in this image.\" data-fancybox-group=\"images\" data-fancybox-href=\"/spaceimages/images/mediumsize/PIA17474_ip.jpg\" data-link=\"/spaceimages/details.php?id=PIA17474\" data-title=\"Jewel of the Solar System\" id=\"full_image\">\n",
       " \t\t\t\t\tFULL IMAGE\n",
       " \t\t\t\t  </a>\n",
       " </footer>\n",
       " </div>\n",
       " <div class=\"gradient_container_top\"></div>\n",
       " <div class=\"gradient_container_bottom\"></div>\n",
       " </article>\n",
       " </div>]"
      ]
     },
     "execution_count": 11,
     "metadata": {},
     "output_type": "execute_result"
    }
   ],
   "source": [
    "marshtml = browser.html\n",
    "soup = BeautifulSoup(marshtml, 'html.parser')\n",
    "\n",
    "backgroundhtml = soup.findAll('div', attrs={'class' : 'carousel_items'})\n",
    "backgroundhtml"
   ]
  },
  {
   "cell_type": "code",
   "execution_count": 12,
   "metadata": {},
   "outputs": [
    {
     "name": "stdout",
     "output_type": "stream",
     "text": [
      "background-image: url('/spaceimages/images/wallpaper/PIA17474-1920x1200.jpg');\n"
     ]
    }
   ],
   "source": [
    "for item in backgroundhtml:\n",
    "    imagedirect = item.article['style']\n",
    "    print(imagedirect)"
   ]
  },
  {
   "cell_type": "code",
   "execution_count": 13,
   "metadata": {},
   "outputs": [
    {
     "data": {
      "text/plain": [
       "'https://www.jpl.nasa.gov/spaceimages/images/wallpaper/PIA17474-1920x1200.jpg'"
      ]
     },
     "execution_count": 13,
     "metadata": {},
     "output_type": "execute_result"
    }
   ],
   "source": [
    "\n",
    "urlsecondhalf = imagedirect.split('(')[1].split(')')[0].split(\"'\")[1]\n",
    "urlfirsthalf = \"https://www.jpl.nasa.gov\"\n",
    "featuredimageurl = urlfirsthalf + urlsecondhalf\n",
    "featuredimageurl"
   ]
  },
  {
   "cell_type": "markdown",
   "metadata": {},
   "source": [
    "# Data"
   ]
  },
  {
   "cell_type": "code",
   "execution_count": 14,
   "metadata": {},
   "outputs": [
    {
     "data": {
      "text/plain": [
       "'https://www.jpl.nasa.gov/spaceimages/images/wallpaper/PIA17474-1920x1200.jpg'"
      ]
     },
     "execution_count": 14,
     "metadata": {},
     "output_type": "execute_result"
    }
   ],
   "source": [
    "featuredimageurl"
   ]
  },
  {
   "cell_type": "markdown",
   "metadata": {},
   "source": [
    "# Mars Weather"
   ]
  },
  {
   "cell_type": "code",
   "execution_count": 15,
   "metadata": {},
   "outputs": [
    {
     "name": "stdout",
     "output_type": "stream",
     "text": [
      "<div class=\"js-tweet-text-container\">\n",
      " <p class=\"TweetTextSize TweetTextSize--normal js-tweet-text tweet-text\" data-aria-label-part=\"0\" lang=\"en\">\n",
      "  InSight sol 167 (2019-05-17) low -100.5ºC (-148.9ºF) high -20.4ºC (-4.6ºF)\n",
      "winds from the SW at 4.7 m/s (10.6 mph) gusting to 13.5 m/s (30.3 mph)\n",
      "pressure at 7.50 hPa\n",
      "  <a class=\"twitter-timeline-link u-hidden\" data-pre-embedded=\"true\" dir=\"ltr\" href=\"https://t.co/0Eqt9nN21o\">\n",
      "   pic.twitter.com/0Eqt9nN21o\n",
      "  </a>\n",
      " </p>\n",
      "</div>\n",
      "\n"
     ]
    }
   ],
   "source": [
    "page2 = requests.get(\"https://twitter.com/marswxreport?lang=en\")\n",
    "soup2 = BeautifulSoup(page2.content, 'html.parser')\n",
    "tweets = soup2.find(class_=\"js-tweet-text-container\")\n",
    "first_tweet = tweets\n",
    "data2 = first_tweet.prettify()\n",
    "print(data2)"
   ]
  },
  {
   "cell_type": "code",
   "execution_count": 16,
   "metadata": {},
   "outputs": [
    {
     "name": "stdout",
     "output_type": "stream",
     "text": [
      "InSight sol 167 (2019-05-17) low -100.5ºC (-148.9ºF) high -20.4ºC (-4.6ºF)\n",
      "winds from the SW at 4.7 m/s (10.6 mph) gusting to 13.5 m/s (30.3 mph)\n",
      "pressure at 7.50 hPapic.twitter.com/0Eqt9nN21o\n"
     ]
    }
   ],
   "source": [
    "mars_weather = first_tweet.find(class_=\"TweetTextSize TweetTextSize--normal js-tweet-text tweet-text\").get_text()\n",
    "#period = tonight.find(class_=\"period-name\").get_text()\n",
    "print(mars_weather)"
   ]
  },
  {
   "cell_type": "markdown",
   "metadata": {},
   "source": [
    "# Data"
   ]
  },
  {
   "cell_type": "code",
   "execution_count": 17,
   "metadata": {},
   "outputs": [
    {
     "data": {
      "text/plain": [
       "'InSight sol 167 (2019-05-17) low -100.5ºC (-148.9ºF) high -20.4ºC (-4.6ºF)\\nwinds from the SW at 4.7 m/s (10.6 mph) gusting to 13.5 m/s (30.3 mph)\\npressure at 7.50 hPapic.twitter.com/0Eqt9nN21o'"
      ]
     },
     "execution_count": 17,
     "metadata": {},
     "output_type": "execute_result"
    }
   ],
   "source": [
    "mars_weather"
   ]
  },
  {
   "cell_type": "markdown",
   "metadata": {},
   "source": [
    "# Mars Facts"
   ]
  },
  {
   "cell_type": "code",
   "execution_count": 18,
   "metadata": {},
   "outputs": [
    {
     "name": "stdout",
     "output_type": "stream",
     "text": [
      "<table class=\"tablepress tablepress-id-mars\" id=\"tablepress-mars\">\n",
      " <tbody>\n",
      "  <tr class=\"row-1 odd\">\n",
      "   <td class=\"column-1\">\n",
      "    <strong>\n",
      "     Equatorial Diameter:\n",
      "    </strong>\n",
      "   </td>\n",
      "   <td class=\"column-2\">\n",
      "    6,792 km\n",
      "    <br/>\n",
      "   </td>\n",
      "  </tr>\n",
      "  <tr class=\"row-2 even\">\n",
      "   <td class=\"column-1\">\n",
      "    <strong>\n",
      "     Polar Diameter:\n",
      "    </strong>\n",
      "   </td>\n",
      "   <td class=\"column-2\">\n",
      "    6,752 km\n",
      "    <br/>\n",
      "   </td>\n",
      "  </tr>\n",
      "  <tr class=\"row-3 odd\">\n",
      "   <td class=\"column-1\">\n",
      "    <strong>\n",
      "     Mass:\n",
      "    </strong>\n",
      "   </td>\n",
      "   <td class=\"column-2\">\n",
      "    6.42 x 10^23 kg (10.7% Earth)\n",
      "   </td>\n",
      "  </tr>\n",
      "  <tr class=\"row-4 even\">\n",
      "   <td class=\"column-1\">\n",
      "    <strong>\n",
      "     Moons:\n",
      "    </strong>\n",
      "   </td>\n",
      "   <td class=\"column-2\">\n",
      "    2 (\n",
      "    <a href=\"https://space-facts.com/phobos/\">\n",
      "     Phobos\n",
      "    </a>\n",
      "    &amp;\n",
      "    <a href=\"https://space-facts.com/deimos/\">\n",
      "     Deimos\n",
      "    </a>\n",
      "    )\n",
      "   </td>\n",
      "  </tr>\n",
      "  <tr class=\"row-5 odd\">\n",
      "   <td class=\"column-1\">\n",
      "    <strong>\n",
      "     Orbit Distance:\n",
      "    </strong>\n",
      "   </td>\n",
      "   <td class=\"column-2\">\n",
      "    227,943,824 km (1.52 AU)\n",
      "   </td>\n",
      "  </tr>\n",
      "  <tr class=\"row-6 even\">\n",
      "   <td class=\"column-1\">\n",
      "    <strong>\n",
      "     Orbit Period:\n",
      "    </strong>\n",
      "   </td>\n",
      "   <td class=\"column-2\">\n",
      "    687 days (1.9 years)\n",
      "    <br/>\n",
      "   </td>\n",
      "  </tr>\n",
      "  <tr class=\"row-7 odd\">\n",
      "   <td class=\"column-1\">\n",
      "    <strong>\n",
      "     Surface Temperature:\n",
      "    </strong>\n",
      "   </td>\n",
      "   <td class=\"column-2\">\n",
      "    -153 to 20 °C\n",
      "   </td>\n",
      "  </tr>\n",
      "  <tr class=\"row-8 even\">\n",
      "   <td class=\"column-1\">\n",
      "    <strong>\n",
      "     First Record:\n",
      "    </strong>\n",
      "   </td>\n",
      "   <td class=\"column-2\">\n",
      "    2nd millennium BC\n",
      "   </td>\n",
      "  </tr>\n",
      "  <tr class=\"row-9 odd\">\n",
      "   <td class=\"column-1\">\n",
      "    <strong>\n",
      "     Recorded By:\n",
      "    </strong>\n",
      "   </td>\n",
      "   <td class=\"column-2\">\n",
      "    Egyptian astronomers\n",
      "   </td>\n",
      "  </tr>\n",
      " </tbody>\n",
      "</table>\n",
      "\n"
     ]
    }
   ],
   "source": [
    "page3 = requests.get(\"https://space-facts.com/mars/\")\n",
    "soup3 = BeautifulSoup(page3.content, 'html.parser')\n",
    "table = soup3.find(id=\"tablepress-mars\")\n",
    "data3 = table.prettify()\n",
    "print(data3)"
   ]
  },
  {
   "cell_type": "code",
   "execution_count": 19,
   "metadata": {},
   "outputs": [],
   "source": [
    "data = []\n",
    "table = soup3.find('table', attrs={'class':'tablepress tablepress-id-mars'})\n",
    "table_body = table.find('tbody')\n",
    "\n",
    "rows = table_body.find_all('tr')\n",
    "for row in rows:\n",
    "    cols = row.find_all('td')\n",
    "    cols = [ele.text.strip() for ele in cols]\n",
    "    data.append([ele for ele in cols if ele]) # Get rid of empty values\n"
   ]
  },
  {
   "cell_type": "code",
   "execution_count": 20,
   "metadata": {},
   "outputs": [
    {
     "data": {
      "text/plain": [
       "[['Equatorial Diameter:', '6,792 km'],\n",
       " ['Polar Diameter:', '6,752 km'],\n",
       " ['Mass:', '6.42 x 10^23 kg (10.7% Earth)'],\n",
       " ['Moons:', '2 (Phobos & Deimos)'],\n",
       " ['Orbit Distance:', '227,943,824 km (1.52 AU)'],\n",
       " ['Orbit Period:', '687 days (1.9 years)'],\n",
       " ['Surface Temperature:', '-153 to 20 °C'],\n",
       " ['First Record:', '2nd millennium BC'],\n",
       " ['Recorded By:', 'Egyptian astronomers']]"
      ]
     },
     "execution_count": 20,
     "metadata": {},
     "output_type": "execute_result"
    }
   ],
   "source": [
    "data"
   ]
  },
  {
   "cell_type": "code",
   "execution_count": 21,
   "metadata": {},
   "outputs": [
    {
     "data": {
      "text/html": [
       "<div>\n",
       "<style scoped>\n",
       "    .dataframe tbody tr th:only-of-type {\n",
       "        vertical-align: middle;\n",
       "    }\n",
       "\n",
       "    .dataframe tbody tr th {\n",
       "        vertical-align: top;\n",
       "    }\n",
       "\n",
       "    .dataframe thead th {\n",
       "        text-align: right;\n",
       "    }\n",
       "</style>\n",
       "<table border=\"1\" class=\"dataframe\">\n",
       "  <thead>\n",
       "    <tr style=\"text-align: right;\">\n",
       "      <th></th>\n",
       "      <th>0</th>\n",
       "      <th>1</th>\n",
       "    </tr>\n",
       "  </thead>\n",
       "  <tbody>\n",
       "    <tr>\n",
       "      <th>0</th>\n",
       "      <td>Equatorial Diameter:</td>\n",
       "      <td>6,792 km</td>\n",
       "    </tr>\n",
       "    <tr>\n",
       "      <th>1</th>\n",
       "      <td>Polar Diameter:</td>\n",
       "      <td>6,752 km</td>\n",
       "    </tr>\n",
       "    <tr>\n",
       "      <th>2</th>\n",
       "      <td>Mass:</td>\n",
       "      <td>6.42 x 10^23 kg (10.7% Earth)</td>\n",
       "    </tr>\n",
       "    <tr>\n",
       "      <th>3</th>\n",
       "      <td>Moons:</td>\n",
       "      <td>2 (Phobos &amp; Deimos)</td>\n",
       "    </tr>\n",
       "    <tr>\n",
       "      <th>4</th>\n",
       "      <td>Orbit Distance:</td>\n",
       "      <td>227,943,824 km (1.52 AU)</td>\n",
       "    </tr>\n",
       "    <tr>\n",
       "      <th>5</th>\n",
       "      <td>Orbit Period:</td>\n",
       "      <td>687 days (1.9 years)</td>\n",
       "    </tr>\n",
       "    <tr>\n",
       "      <th>6</th>\n",
       "      <td>Surface Temperature:</td>\n",
       "      <td>-153 to 20 °C</td>\n",
       "    </tr>\n",
       "    <tr>\n",
       "      <th>7</th>\n",
       "      <td>First Record:</td>\n",
       "      <td>2nd millennium BC</td>\n",
       "    </tr>\n",
       "    <tr>\n",
       "      <th>8</th>\n",
       "      <td>Recorded By:</td>\n",
       "      <td>Egyptian astronomers</td>\n",
       "    </tr>\n",
       "  </tbody>\n",
       "</table>\n",
       "</div>"
      ],
      "text/plain": [
       "                      0                              1\n",
       "0  Equatorial Diameter:                       6,792 km\n",
       "1       Polar Diameter:                       6,752 km\n",
       "2                 Mass:  6.42 x 10^23 kg (10.7% Earth)\n",
       "3                Moons:            2 (Phobos & Deimos)\n",
       "4       Orbit Distance:       227,943,824 km (1.52 AU)\n",
       "5         Orbit Period:           687 days (1.9 years)\n",
       "6  Surface Temperature:                  -153 to 20 °C\n",
       "7         First Record:              2nd millennium BC\n",
       "8          Recorded By:           Egyptian astronomers"
      ]
     },
     "execution_count": 21,
     "metadata": {},
     "output_type": "execute_result"
    }
   ],
   "source": [
    "df = pd.DataFrame(data)\n",
    "df"
   ]
  },
  {
   "cell_type": "code",
   "execution_count": 22,
   "metadata": {},
   "outputs": [
    {
     "name": "stdout",
     "output_type": "stream",
     "text": [
      "               Category                    Measurement\n",
      "0  Equatorial Diameter:                       6,792 km\n",
      "1       Polar Diameter:                       6,752 km\n",
      "2                 Mass:  6.42 x 10^23 kg (10.7% Earth)\n",
      "3                Moons:            2 (Phobos & Deimos)\n",
      "4       Orbit Distance:       227,943,824 km (1.52 AU)\n",
      "5         Orbit Period:           687 days (1.9 years)\n",
      "6  Surface Temperature:                  -153 to 20 °C\n",
      "7         First Record:              2nd millennium BC\n",
      "8          Recorded By:           Egyptian astronomers\n"
     ]
    }
   ],
   "source": [
    "import pandas as pd\n",
    "import requests\n",
    "import numpy as np\n",
    "\n",
    "from bs4 import BeautifulSoup\n",
    "\n",
    "site = requests.get(\"https://space-facts.com/mars/\")\n",
    "soup = BeautifulSoup(site.content,'html')\n",
    "table = soup.find_all('table')[0] \n",
    "#df = pd.read_html(str(table))\n",
    "table_rows = table.find_all('tr')\n",
    "table_rows\n",
    "res = []\n",
    "for tr in table_rows:\n",
    "    td = tr.find_all('td')\n",
    "    row = [tr.text.strip() for tr in td if tr.text.strip()]\n",
    "    if row:\n",
    "        res.append(row)\n",
    "\n",
    "\n",
    "df = pd.DataFrame(res, columns=[\"Category\", \"Measurement\"])\n",
    "print(df)\n"
   ]
  },
  {
   "cell_type": "code",
   "execution_count": 23,
   "metadata": {},
   "outputs": [
    {
     "data": {
      "text/plain": [
       "'<table border=\"1\" class=\"dataframe\">\\n  <thead>\\n    <tr style=\"text-align: right;\">\\n      <th></th>\\n      <th>Category</th>\\n      <th>Measurement</th>\\n    </tr>\\n  </thead>\\n  <tbody>\\n    <tr>\\n      <th>0</th>\\n      <td>Equatorial Diameter:</td>\\n      <td>6,792 km</td>\\n    </tr>\\n    <tr>\\n      <th>1</th>\\n      <td>Polar Diameter:</td>\\n      <td>6,752 km</td>\\n    </tr>\\n    <tr>\\n      <th>2</th>\\n      <td>Mass:</td>\\n      <td>6.42 x 10^23 kg (10.7% Earth)</td>\\n    </tr>\\n    <tr>\\n      <th>3</th>\\n      <td>Moons:</td>\\n      <td>2 (Phobos &amp; Deimos)</td>\\n    </tr>\\n    <tr>\\n      <th>4</th>\\n      <td>Orbit Distance:</td>\\n      <td>227,943,824 km (1.52 AU)</td>\\n    </tr>\\n    <tr>\\n      <th>5</th>\\n      <td>Orbit Period:</td>\\n      <td>687 days (1.9 years)</td>\\n    </tr>\\n    <tr>\\n      <th>6</th>\\n      <td>Surface Temperature:</td>\\n      <td>-153 to 20 °C</td>\\n    </tr>\\n    <tr>\\n      <th>7</th>\\n      <td>First Record:</td>\\n      <td>2nd millennium BC</td>\\n    </tr>\\n    <tr>\\n      <th>8</th>\\n      <td>Recorded By:</td>\\n      <td>Egyptian astronomers</td>\\n    </tr>\\n  </tbody>\\n</table>'"
      ]
     },
     "execution_count": 23,
     "metadata": {},
     "output_type": "execute_result"
    }
   ],
   "source": [
    "dfhtmltablestring = df.to_html()\n",
    "dfhtmltablestring"
   ]
  },
  {
   "cell_type": "markdown",
   "metadata": {},
   "source": [
    "# Data"
   ]
  },
  {
   "cell_type": "code",
   "execution_count": 25,
   "metadata": {},
   "outputs": [
    {
     "data": {
      "text/plain": [
       "'<table border=\"1\" class=\"dataframe\">\\n  <thead>\\n    <tr style=\"text-align: right;\">\\n      <th></th>\\n      <th>Category</th>\\n      <th>Measurement</th>\\n    </tr>\\n  </thead>\\n  <tbody>\\n    <tr>\\n      <th>0</th>\\n      <td>Equatorial Diameter:</td>\\n      <td>6,792 km</td>\\n    </tr>\\n    <tr>\\n      <th>1</th>\\n      <td>Polar Diameter:</td>\\n      <td>6,752 km</td>\\n    </tr>\\n    <tr>\\n      <th>2</th>\\n      <td>Mass:</td>\\n      <td>6.42 x 10^23 kg (10.7% Earth)</td>\\n    </tr>\\n    <tr>\\n      <th>3</th>\\n      <td>Moons:</td>\\n      <td>2 (Phobos &amp; Deimos)</td>\\n    </tr>\\n    <tr>\\n      <th>4</th>\\n      <td>Orbit Distance:</td>\\n      <td>227,943,824 km (1.52 AU)</td>\\n    </tr>\\n    <tr>\\n      <th>5</th>\\n      <td>Orbit Period:</td>\\n      <td>687 days (1.9 years)</td>\\n    </tr>\\n    <tr>\\n      <th>6</th>\\n      <td>Surface Temperature:</td>\\n      <td>-153 to 20 °C</td>\\n    </tr>\\n    <tr>\\n      <th>7</th>\\n      <td>First Record:</td>\\n      <td>2nd millennium BC</td>\\n    </tr>\\n    <tr>\\n      <th>8</th>\\n      <td>Recorded By:</td>\\n      <td>Egyptian astronomers</td>\\n    </tr>\\n  </tbody>\\n</table>'"
      ]
     },
     "execution_count": 25,
     "metadata": {},
     "output_type": "execute_result"
    }
   ],
   "source": [
    "dfhtmltablestring"
   ]
  },
  {
   "cell_type": "markdown",
   "metadata": {},
   "source": [
    "# Mars Dict"
   ]
  },
  {
   "cell_type": "code",
   "execution_count": null,
   "metadata": {},
   "outputs": [],
   "source": []
  },
  {
   "cell_type": "markdown",
   "metadata": {},
   "source": [
    "# Mars Hemispheres"
   ]
  },
  {
   "cell_type": "code",
   "execution_count": 26,
   "metadata": {},
   "outputs": [],
   "source": [
    "from splinter import Browser\n",
    "browser = Browser('chrome')\n",
    "url = 'https://astrogeology.usgs.gov/search/results?q=hemisphere+enhanced&k1=target&v1=Mars'\n",
    "browser.visit(url)"
   ]
  },
  {
   "cell_type": "code",
   "execution_count": 27,
   "metadata": {},
   "outputs": [
    {
     "data": {
      "text/plain": [
       "[<h3>Cerberus Hemisphere Enhanced</h3>,\n",
       " <h3>Schiaparelli Hemisphere Enhanced</h3>,\n",
       " <h3>Syrtis Major Hemisphere Enhanced</h3>,\n",
       " <h3>Valles Marineris Hemisphere Enhanced</h3>]"
      ]
     },
     "execution_count": 27,
     "metadata": {},
     "output_type": "execute_result"
    }
   ],
   "source": [
    "browser.visit(url)\n",
    "# Iterate through all pages\n",
    "h3list = []\n",
    "#for x in range(4):\n",
    "    # HTML object\n",
    "html = browser.html\n",
    "    # Parse HTML with Beautiful Soup\n",
    "soup = BeautifulSoup(html, 'html.parser')\n",
    "    # Retrieve all elements that contain book information\n",
    "hemispheres = soup.find_all('div', class_='description')\n",
    "\n",
    "    # Iterate through each book\n",
    "for item in hemispheres:\n",
    "        # Use Beautiful Soup's find() method to navigate and retrieve attributes\n",
    "    h3 = item.find('h3')\n",
    "    h3list.append(h3)\n",
    "    #print(h3)\n",
    "\n",
    "h3list"
   ]
  },
  {
   "cell_type": "code",
   "execution_count": 28,
   "metadata": {},
   "outputs": [
    {
     "data": {
      "text/plain": [
       "'Syrtis Major Hemisphere'"
      ]
     },
     "execution_count": 28,
     "metadata": {},
     "output_type": "execute_result"
    }
   ],
   "source": [
    "item = str(h3list[2])\n",
    "item.split(\">\")[1].split(\"<\")[0].split(\" \")\n",
    "#item.split(\">\")[1].split(\"<\")[0].split(\" \")[-1]\n",
    "item.split(\">\")[1].split(\" E\")[0]"
   ]
  },
  {
   "cell_type": "code",
   "execution_count": 29,
   "metadata": {},
   "outputs": [
    {
     "data": {
      "text/plain": [
       "['Cerberus Hemisphere',\n",
       " 'Schiaparelli Hemisphere',\n",
       " 'Syrtis Major Hemisphere',\n",
       " 'Valles Marineris Hemisphere']"
      ]
     },
     "execution_count": 29,
     "metadata": {},
     "output_type": "execute_result"
    }
   ],
   "source": [
    "titlelist = []\n",
    "for item in h3list:\n",
    "    titlelist.append(str(item).split(\">\")[1].split(\" E\")[0])\n",
    "titlelist"
   ]
  },
  {
   "cell_type": "code",
   "execution_count": 30,
   "metadata": {},
   "outputs": [],
   "source": [
    "from splinter import Browser\n",
    "browser = Browser('chrome')\n",
    "url = 'https://astrogeology.usgs.gov/search/results?q=hemisphere+enhanced&k1=target&v1=Mars'\n",
    "browser.visit(url)"
   ]
  },
  {
   "cell_type": "code",
   "execution_count": 31,
   "metadata": {},
   "outputs": [
    {
     "name": "stdout",
     "output_type": "stream",
     "text": [
      "success\n",
      "-----------\n",
      "http://astropedia.astrogeology.usgs.gov/download/Mars/Viking/cerberus_enhanced.tif/full.jpg\n",
      "success\n",
      "-----------\n",
      "http://astropedia.astrogeology.usgs.gov/download/Mars/Viking/schiaparelli_unenhanced.tif/full.jpg\n",
      "success\n",
      "-----------\n",
      "http://astropedia.astrogeology.usgs.gov/download/Mars/Viking/syrtis_major_unenhanced.tif/full.jpg\n",
      "success\n",
      "-----------\n",
      "http://astropedia.astrogeology.usgs.gov/download/Mars/Viking/valles_marineris_unenhanced.tif/full.jpg\n",
      "fail\n"
     ]
    }
   ],
   "source": [
    "browser.visit(url)\n",
    "\n",
    "urllist = []\n",
    "\n",
    "for x in range(5):\n",
    "    # HTML object\n",
    "    html = browser.html\n",
    "    # Parse HTML with Beautiful Soup\n",
    "    soup = BeautifulSoup(html, 'html.parser')\n",
    "    # Retrieve all elements that contain book information\n",
    "    hemispherehtml = soup.find_all('div', class_='downloads')\n",
    "\n",
    "    # Iterate through each book\n",
    "    for item in hemispherehtml:\n",
    "        # Use Beautiful Soup's find() method to navigate and retrieve attributes\n",
    "        li = item.find('li')\n",
    "        link = li.find('a')\n",
    "        href = link['href']\n",
    "        #title = link['title']\n",
    "        \n",
    "        urllist.append(href)\n",
    "        \n",
    "        print('-----------')\n",
    "        print(href)\n",
    "        #print('http://books.toscrape.com/' + href)\n",
    "\n",
    "    # Click the 'Next' button on each page\n",
    "    try:\n",
    "        browser.click_link_by_partial_text(f'{titlelist[x]}')\n",
    "        print(\"success\")\n",
    "          \n",
    "    except:\n",
    "        print(\"fail\")"
   ]
  },
  {
   "cell_type": "code",
   "execution_count": null,
   "metadata": {},
   "outputs": [],
   "source": []
  },
  {
   "cell_type": "code",
   "execution_count": 32,
   "metadata": {},
   "outputs": [
    {
     "data": {
      "text/plain": [
       "[('Cerberus Hemisphere',\n",
       "  'http://astropedia.astrogeology.usgs.gov/download/Mars/Viking/cerberus_enhanced.tif/full.jpg'),\n",
       " ('Schiaparelli Hemisphere',\n",
       "  'http://astropedia.astrogeology.usgs.gov/download/Mars/Viking/schiaparelli_unenhanced.tif/full.jpg'),\n",
       " ('Syrtis Major Hemisphere',\n",
       "  'http://astropedia.astrogeology.usgs.gov/download/Mars/Viking/syrtis_major_unenhanced.tif/full.jpg'),\n",
       " ('Valles Marineris Hemisphere',\n",
       "  'http://astropedia.astrogeology.usgs.gov/download/Mars/Viking/valles_marineris_unenhanced.tif/full.jpg')]"
      ]
     },
     "execution_count": 32,
     "metadata": {},
     "output_type": "execute_result"
    }
   ],
   "source": [
    "zipped = list(zip(titlelist, urllist))\n",
    "zipped"
   ]
  },
  {
   "cell_type": "code",
   "execution_count": 33,
   "metadata": {},
   "outputs": [
    {
     "data": {
      "text/plain": [
       "['Cerberus Hemisphere',\n",
       " 'Schiaparelli Hemisphere',\n",
       " 'Syrtis Major Hemisphere',\n",
       " 'Valles Marineris Hemisphere']"
      ]
     },
     "execution_count": 33,
     "metadata": {},
     "output_type": "execute_result"
    }
   ],
   "source": [
    "titlelist"
   ]
  },
  {
   "cell_type": "code",
   "execution_count": 34,
   "metadata": {},
   "outputs": [
    {
     "data": {
      "text/plain": [
       "['http://astropedia.astrogeology.usgs.gov/download/Mars/Viking/cerberus_enhanced.tif/full.jpg',\n",
       " 'http://astropedia.astrogeology.usgs.gov/download/Mars/Viking/schiaparelli_unenhanced.tif/full.jpg',\n",
       " 'http://astropedia.astrogeology.usgs.gov/download/Mars/Viking/syrtis_major_unenhanced.tif/full.jpg',\n",
       " 'http://astropedia.astrogeology.usgs.gov/download/Mars/Viking/valles_marineris_unenhanced.tif/full.jpg']"
      ]
     },
     "execution_count": 34,
     "metadata": {},
     "output_type": "execute_result"
    }
   ],
   "source": [
    "urllist"
   ]
  },
  {
   "cell_type": "markdown",
   "metadata": {},
   "source": [
    "# Data"
   ]
  },
  {
   "cell_type": "code",
   "execution_count": 35,
   "metadata": {},
   "outputs": [
    {
     "data": {
      "text/plain": [
       "['Cerberus Hemisphere',\n",
       " 'Schiaparelli Hemisphere',\n",
       " 'Syrtis Major Hemisphere',\n",
       " 'Valles Marineris Hemisphere']"
      ]
     },
     "execution_count": 35,
     "metadata": {},
     "output_type": "execute_result"
    }
   ],
   "source": [
    "titlelist"
   ]
  },
  {
   "cell_type": "code",
   "execution_count": 36,
   "metadata": {},
   "outputs": [
    {
     "data": {
      "text/plain": [
       "['http://astropedia.astrogeology.usgs.gov/download/Mars/Viking/cerberus_enhanced.tif/full.jpg',\n",
       " 'http://astropedia.astrogeology.usgs.gov/download/Mars/Viking/schiaparelli_unenhanced.tif/full.jpg',\n",
       " 'http://astropedia.astrogeology.usgs.gov/download/Mars/Viking/syrtis_major_unenhanced.tif/full.jpg',\n",
       " 'http://astropedia.astrogeology.usgs.gov/download/Mars/Viking/valles_marineris_unenhanced.tif/full.jpg']"
      ]
     },
     "execution_count": 36,
     "metadata": {},
     "output_type": "execute_result"
    }
   ],
   "source": [
    "urllist"
   ]
  },
  {
   "cell_type": "markdown",
   "metadata": {},
   "source": [
    "# Final Mars Dict for Mongo"
   ]
  },
  {
   "cell_type": "code",
   "execution_count": 37,
   "metadata": {},
   "outputs": [],
   "source": [
    "marsdatadict = {\n",
    "    \"news_title\": news_title,\n",
    "    \"news_paragraph\": news_paragraph,\n",
    "    \"featured_image\": url,\n",
    "    \"current_weather\": mars_weather,\n",
    "    \"facts_table\": dfhtmltablestring,\n",
    "    \"Cerberus\": {\n",
    "        \"title\": titlelist[0],\n",
    "        \"img_url\": urllist[0]\n",
    "    },\n",
    "    \"Schiaparelli\": {\n",
    "        \"title\": titlelist[1],\n",
    "        \"img_url\": urllist[1]\n",
    "    },\n",
    "    \"Syrtis\": {\n",
    "        \"title\": titlelist[2],\n",
    "        \"img_url\": urllist[2]\n",
    "    },\n",
    "    \"Valles\": {\n",
    "        \"title\": titlelist[3],\n",
    "        \"img_url\": urllist[3]\n",
    "    }\n",
    "}"
   ]
  },
  {
   "cell_type": "code",
   "execution_count": 38,
   "metadata": {},
   "outputs": [
    {
     "data": {
      "text/plain": [
       "'https://astrogeology.usgs.gov/search/results?q=hemisphere+enhanced&k1=target&v1=Mars'"
      ]
     },
     "execution_count": 38,
     "metadata": {},
     "output_type": "execute_result"
    }
   ],
   "source": [
    "marsdatadict[\"featured_image\"]"
   ]
  },
  {
   "cell_type": "markdown",
   "metadata": {},
   "source": [
    "# Scraping Code as a Function"
   ]
  },
  {
   "cell_type": "code",
   "execution_count": 39,
   "metadata": {},
   "outputs": [],
   "source": [
    "def scrape_info():\n",
    "    import requests\n",
    "\n",
    "    from bs4 import BeautifulSoup\n",
    "\n",
    "    import pandas as pd\n",
    "\n",
    "#NASA Mars News¶\n",
    "\n",
    "    page = requests.get(\"https://mars.nasa.gov/news/?page=0&per_page=40&order=publish_date+desc%2Ccreated_at+desc&search=&category=19%2C165%2C184%2C204&blank_scope=Latest\")\n",
    "    soup = BeautifulSoup(page.content, 'html.parser')\n",
    "    articles = soup.find(class_=\"image_and_description_container\")\n",
    "    first_article = articles\n",
    "    data = first_article.prettify()\n",
    "    print(data)\n",
    "\n",
    "    news_paragraph = first_article.find(class_=\"rollover_description_inner\").get_text()\n",
    "    print(news_paragraph)\n",
    "\n",
    "    imgs = first_article.find_all(\"img\")\n",
    "\n",
    "    img = imgs[1]  \n",
    "    news_title = img[\"alt\"]\n",
    "    news_title\n",
    "\n",
    "    news_paragraph\n",
    "\n",
    "    news_title\n",
    "\n",
    "## JPL Mars Space Images - Featured Image\n",
    "\n",
    "    from splinter import Browser\n",
    "\n",
    "#!which chromedriver\n",
    "\n",
    "    from splinter import Browser\n",
    "    browser = Browser('chrome')\n",
    "\n",
    "    browser.visit('https://www.jpl.nasa.gov/spaceimages/?search=&category=Mars')\n",
    "\n",
    "    marshtml = browser.html\n",
    "    soup = BeautifulSoup(marshtml, 'html.parser')\n",
    "\n",
    "    backgroundhtml = soup.findAll('div', attrs={'class' : 'carousel_items'})\n",
    "    backgroundhtml\n",
    "\n",
    "    for item in backgroundhtml:\n",
    "        imagedirect = item.article['style']\n",
    "        print(imagedirect)\n",
    "\n",
    "    urlsecondhalf = imagedirect.split('(')[1].split(')')[0].split(\"'\")[1]\n",
    "    urlfirsthalf = \"https://www.jpl.nasa.gov\"\n",
    "    featuredimageurl = urlfirsthalf + urlsecondhalf\n",
    "    featuredimageurl\n",
    "\n",
    "    featuredimageurl\n",
    "\n",
    "    browser.quit()\n",
    "\n",
    "\n",
    "    ## Mars Weather\n",
    "\n",
    "    page2 = requests.get(\"https://twitter.com/marswxreport?lang=en\")\n",
    "    soup2 = BeautifulSoup(page2.content, 'html.parser')\n",
    "    tweets = soup2.find(class_=\"js-tweet-text-container\")\n",
    "    first_tweet = tweets\n",
    "    data2 = first_tweet.prettify()\n",
    "    print(data2)\n",
    "\n",
    "\n",
    "    mars_weather = first_tweet.find(class_=\"TweetTextSize TweetTextSize--normal js-tweet-text tweet-text\").get_text()\n",
    "    #period = tonight.find(class_=\"period-name\").get_text()\n",
    "    print(mars_weather)\n",
    "\n",
    "    mars_weather\n",
    "\n",
    "## Mars Facts\n",
    "\n",
    "    page3 = requests.get(\"https://space-facts.com/mars/\")\n",
    "    soup3 = BeautifulSoup(page3.content, 'html.parser')\n",
    "    table = soup3.find(id=\"tablepress-mars\")\n",
    "    data3 = table.prettify()\n",
    "    print(data3)\n",
    "\n",
    "    data = []\n",
    "    table = soup3.find('table', attrs={'class':'tablepress tablepress-id-mars'})\n",
    "    table_body = table.find('tbody')\n",
    "\n",
    "    rows = table_body.find_all('tr')\n",
    "    for row in rows:\n",
    "        cols = row.find_all('td')\n",
    "        cols = [ele.text.strip() for ele in cols]\n",
    "        data.append([ele for ele in cols if ele]) # Get rid of empty values\n",
    "\n",
    "\n",
    "    data\n",
    "\n",
    "\n",
    "    df = pd.DataFrame(data)\n",
    "    df\n",
    "\n",
    "    import pandas as pd\n",
    "    import requests\n",
    "    import numpy as np\n",
    "\n",
    "    from bs4 import BeautifulSoup\n",
    "\n",
    "    site = requests.get(\"https://space-facts.com/mars/\")\n",
    "    soup = BeautifulSoup(site.content,'html')\n",
    "    table = soup.find_all('table')[0] \n",
    "    #df = pd.read_html(str(table))\n",
    "    table_rows = table.find_all('tr')\n",
    "    table_rows\n",
    "    res = []\n",
    "    for tr in table_rows:\n",
    "        td = tr.find_all('td')\n",
    "        row = [tr.text.strip() for tr in td if tr.text.strip()]\n",
    "        if row:\n",
    "            res.append(row)\n",
    "\n",
    "\n",
    "    df = pd.DataFrame(res, columns=[\"Category\", \"Measurement\"])\n",
    "    print(df)\n",
    "\n",
    "\n",
    "    dfhtmltablestring = df.to_html()\n",
    "    dfhtmltablestring\n",
    "\n",
    "    dfhtmltablestring\n",
    "\n",
    "    ## Mars Hemispheres\n",
    "\n",
    "    from splinter import Browser\n",
    "    browser = Browser('chrome')\n",
    "    url = 'https://astrogeology.usgs.gov/search/results?q=hemisphere+enhanced&k1=target&v1=Mars'\n",
    "\n",
    "\n",
    "    browser.visit(url)\n",
    "    # Iterate through all pages\n",
    "    h3list = []\n",
    "    #for x in range(4):\n",
    "    # HTML object\n",
    "    html = browser.html\n",
    "    # Parse HTML with Beautiful Soup\n",
    "    soup = BeautifulSoup(html, 'html.parser')\n",
    "    # Retrieve all elements that contain book information\n",
    "    hemispheres = soup.find_all('div', class_='description')\n",
    "\n",
    "    # Iterate through each book\n",
    "    for item in hemispheres:\n",
    "        # Use Beautiful Soup's find() method to navigate and retrieve attributes\n",
    "        h3 = item.find('h3')\n",
    "        h3list.append(h3)\n",
    "    #print(h3)\n",
    "\n",
    "    h3list\n",
    "\n",
    "    item = str(h3list[2])\n",
    "    item.split(\">\")[1].split(\"<\")[0].split(\" \")\n",
    "    #item.split(\">\")[1].split(\"<\")[0].split(\" \")[-1]\n",
    "    item.split(\">\")[1].split(\" E\")[0]\n",
    "\n",
    "    titlelist = []\n",
    "    for item in h3list:\n",
    "        titlelist.append(str(item).split(\">\")[1].split(\" E\")[0])\n",
    "    titlelist\n",
    "\n",
    "    browser.quit()\n",
    "\n",
    "\n",
    "    from splinter import Browser\n",
    "    browser = Browser('chrome')\n",
    "    url = 'https://astrogeology.usgs.gov/search/results?q=hemisphere+enhanced&k1=target&v1=Mars'\n",
    "    \n",
    "\n",
    "    browser.visit(url)\n",
    "\n",
    "    urllist = []\n",
    "\n",
    "    for x in range(5):\n",
    "        # HTML object\n",
    "        html = browser.html\n",
    "        # Parse HTML with Beautiful Soup\n",
    "        soup = BeautifulSoup(html, 'html.parser')\n",
    "        # Retrieve all elements that contain book information\n",
    "        hemispherehtml = soup.find_all('div', class_='downloads')\n",
    "\n",
    "        # Iterate through each book\n",
    "        for item in hemispherehtml:\n",
    "            # Use Beautiful Soup's find() method to navigate and retrieve attributes\n",
    "            li = item.find('li')\n",
    "            link = li.find('a')\n",
    "            href = link['href']\n",
    "            #title = link['title']\n",
    "        \n",
    "            urllist.append(href)\n",
    "        \n",
    "            print('-----------')\n",
    "            #print(href)\n",
    "            #print('http://books.toscrape.com/' + href)\n",
    "\n",
    "        # Click the 'Next' button on each page\n",
    "        try:\n",
    "            browser.click_link_by_partial_text(f'{titlelist[x]}')\n",
    "            print(\"success\")\n",
    "          \n",
    "        except:\n",
    "            print(\"fail\")\n",
    "\n",
    "    \n",
    "    titlelist\n",
    "\n",
    "    urllist\n",
    "\n",
    "    marsdatadict = {\n",
    "        \"news_title\": news_title,\n",
    "        \"news_paragraph\": news_paragraph,\n",
    "        \"featured_image\": featuredimageurl,\n",
    "        \"current_weather\": mars_weather,\n",
    "        \"facts_table\": data3,\n",
    "        \"Cerberus\": {\n",
    "            \"title\": titlelist[0],\n",
    "            \"img_url\": urllist[0]\n",
    "        },\n",
    "        \"Schiaparelli\": {\n",
    "            \"title\": titlelist[1],\n",
    "            \"img_url\": urllist[1]\n",
    "        },\n",
    "        \"Syrtis\": {\n",
    "            \"title\": titlelist[2],\n",
    "            \"img_url\": urllist[2]\n",
    "        },\n",
    "        \"Valles\": {\n",
    "            \"title\": titlelist[3],\n",
    "            \"img_url\": urllist[3]\n",
    "        }\n",
    "    }\n",
    "\n",
    "    print(marsdatadict[\"Schiaparelli\"][\"img_url\"])\n",
    "\n",
    "    browser.quit()\n",
    "    \n",
    "    return marsdatadict"
   ]
  },
  {
   "cell_type": "code",
   "execution_count": 40,
   "metadata": {},
   "outputs": [
    {
     "name": "stdout",
     "output_type": "stream",
     "text": [
      "<div class=\"image_and_description_container\">\n",
      " <a href=\"/news/8436/why-this-martian-full-moon-looks-like-candy/\">\n",
      "  <div class=\"rollover_description\">\n",
      "   <div class=\"rollover_description_inner\">\n",
      "    For the first time, NASA's Mars Odyssey orbiter has caught the Martian moon Phobos during a full moon phase. Each color in this new image represents a temperature range detected by Odyssey's infrared camera.\n",
      "   </div>\n",
      "   <div class=\"overlay_arrow\">\n",
      "    <img alt=\"More\" src=\"/assets/overlay-arrow.png\"/>\n",
      "   </div>\n",
      "  </div>\n",
      "  <img alt=\"Why This Martian Full Moon Looks Like Candy\" class=\"img-lazy\" data-lazy=\"/system/news_items/list_view_images/8436_PIA23205_annotated-32x24.jpg\" src=\"/assets/loading_320x240.png\"/>\n",
      " </a>\n",
      "</div>\n",
      "\n",
      "\n",
      "For the first time, NASA's Mars Odyssey orbiter has caught the Martian moon Phobos during a full moon phase. Each color in this new image represents a temperature range detected by Odyssey's infrared camera.\n",
      "\n",
      "background-image: url('/spaceimages/images/wallpaper/PIA18905-1920x1200.jpg');\n",
      "<div class=\"js-tweet-text-container\">\n",
      " <p class=\"TweetTextSize TweetTextSize--normal js-tweet-text tweet-text\" data-aria-label-part=\"0\" lang=\"en\">\n",
      "  InSight sol 167 (2019-05-17) low -100.5ºC (-148.9ºF) high -20.4ºC (-4.6ºF)\n",
      "winds from the SW at 4.7 m/s (10.6 mph) gusting to 13.5 m/s (30.3 mph)\n",
      "pressure at 7.50 hPa\n",
      "  <a class=\"twitter-timeline-link u-hidden\" data-pre-embedded=\"true\" dir=\"ltr\" href=\"https://t.co/0Eqt9nN21o\">\n",
      "   pic.twitter.com/0Eqt9nN21o\n",
      "  </a>\n",
      " </p>\n",
      "</div>\n",
      "\n",
      "InSight sol 167 (2019-05-17) low -100.5ºC (-148.9ºF) high -20.4ºC (-4.6ºF)\n",
      "winds from the SW at 4.7 m/s (10.6 mph) gusting to 13.5 m/s (30.3 mph)\n",
      "pressure at 7.50 hPapic.twitter.com/0Eqt9nN21o\n",
      "<table class=\"tablepress tablepress-id-mars\" id=\"tablepress-mars\">\n",
      " <tbody>\n",
      "  <tr class=\"row-1 odd\">\n",
      "   <td class=\"column-1\">\n",
      "    <strong>\n",
      "     Equatorial Diameter:\n",
      "    </strong>\n",
      "   </td>\n",
      "   <td class=\"column-2\">\n",
      "    6,792 km\n",
      "    <br/>\n",
      "   </td>\n",
      "  </tr>\n",
      "  <tr class=\"row-2 even\">\n",
      "   <td class=\"column-1\">\n",
      "    <strong>\n",
      "     Polar Diameter:\n",
      "    </strong>\n",
      "   </td>\n",
      "   <td class=\"column-2\">\n",
      "    6,752 km\n",
      "    <br/>\n",
      "   </td>\n",
      "  </tr>\n",
      "  <tr class=\"row-3 odd\">\n",
      "   <td class=\"column-1\">\n",
      "    <strong>\n",
      "     Mass:\n",
      "    </strong>\n",
      "   </td>\n",
      "   <td class=\"column-2\">\n",
      "    6.42 x 10^23 kg (10.7% Earth)\n",
      "   </td>\n",
      "  </tr>\n",
      "  <tr class=\"row-4 even\">\n",
      "   <td class=\"column-1\">\n",
      "    <strong>\n",
      "     Moons:\n",
      "    </strong>\n",
      "   </td>\n",
      "   <td class=\"column-2\">\n",
      "    2 (\n",
      "    <a href=\"https://space-facts.com/phobos/\">\n",
      "     Phobos\n",
      "    </a>\n",
      "    &amp;\n",
      "    <a href=\"https://space-facts.com/deimos/\">\n",
      "     Deimos\n",
      "    </a>\n",
      "    )\n",
      "   </td>\n",
      "  </tr>\n",
      "  <tr class=\"row-5 odd\">\n",
      "   <td class=\"column-1\">\n",
      "    <strong>\n",
      "     Orbit Distance:\n",
      "    </strong>\n",
      "   </td>\n",
      "   <td class=\"column-2\">\n",
      "    227,943,824 km (1.52 AU)\n",
      "   </td>\n",
      "  </tr>\n",
      "  <tr class=\"row-6 even\">\n",
      "   <td class=\"column-1\">\n",
      "    <strong>\n",
      "     Orbit Period:\n",
      "    </strong>\n",
      "   </td>\n",
      "   <td class=\"column-2\">\n",
      "    687 days (1.9 years)\n",
      "    <br/>\n",
      "   </td>\n",
      "  </tr>\n",
      "  <tr class=\"row-7 odd\">\n",
      "   <td class=\"column-1\">\n",
      "    <strong>\n",
      "     Surface Temperature:\n",
      "    </strong>\n",
      "   </td>\n",
      "   <td class=\"column-2\">\n",
      "    -153 to 20 °C\n",
      "   </td>\n",
      "  </tr>\n",
      "  <tr class=\"row-8 even\">\n",
      "   <td class=\"column-1\">\n",
      "    <strong>\n",
      "     First Record:\n",
      "    </strong>\n",
      "   </td>\n",
      "   <td class=\"column-2\">\n",
      "    2nd millennium BC\n",
      "   </td>\n",
      "  </tr>\n",
      "  <tr class=\"row-9 odd\">\n",
      "   <td class=\"column-1\">\n",
      "    <strong>\n",
      "     Recorded By:\n",
      "    </strong>\n",
      "   </td>\n",
      "   <td class=\"column-2\">\n",
      "    Egyptian astronomers\n",
      "   </td>\n",
      "  </tr>\n",
      " </tbody>\n",
      "</table>\n",
      "\n",
      "               Category                    Measurement\n",
      "0  Equatorial Diameter:                       6,792 km\n",
      "1       Polar Diameter:                       6,752 km\n",
      "2                 Mass:  6.42 x 10^23 kg (10.7% Earth)\n",
      "3                Moons:            2 (Phobos & Deimos)\n",
      "4       Orbit Distance:       227,943,824 km (1.52 AU)\n",
      "5         Orbit Period:           687 days (1.9 years)\n",
      "6  Surface Temperature:                  -153 to 20 °C\n",
      "7         First Record:              2nd millennium BC\n",
      "8          Recorded By:           Egyptian astronomers\n",
      "success\n",
      "-----------\n",
      "success\n",
      "-----------\n",
      "success\n",
      "-----------\n",
      "success\n",
      "-----------\n",
      "fail\n",
      "http://astropedia.astrogeology.usgs.gov/download/Mars/Viking/schiaparelli_unenhanced.tif/full.jpg\n"
     ]
    },
    {
     "data": {
      "text/plain": [
       "{'news_title': 'Why This Martian Full Moon Looks Like Candy',\n",
       " 'news_paragraph': \"\\nFor the first time, NASA's Mars Odyssey orbiter has caught the Martian moon Phobos during a full moon phase. Each color in this new image represents a temperature range detected by Odyssey's infrared camera.\\n\",\n",
       " 'featured_image': 'https://www.jpl.nasa.gov/spaceimages/images/wallpaper/PIA18905-1920x1200.jpg',\n",
       " 'current_weather': 'InSight sol 167 (2019-05-17) low -100.5ºC (-148.9ºF) high -20.4ºC (-4.6ºF)\\nwinds from the SW at 4.7 m/s (10.6 mph) gusting to 13.5 m/s (30.3 mph)\\npressure at 7.50 hPapic.twitter.com/0Eqt9nN21o',\n",
       " 'facts_table': '<table class=\"tablepress tablepress-id-mars\" id=\"tablepress-mars\">\\n <tbody>\\n  <tr class=\"row-1 odd\">\\n   <td class=\"column-1\">\\n    <strong>\\n     Equatorial Diameter:\\n    </strong>\\n   </td>\\n   <td class=\"column-2\">\\n    6,792 km\\n    <br/>\\n   </td>\\n  </tr>\\n  <tr class=\"row-2 even\">\\n   <td class=\"column-1\">\\n    <strong>\\n     Polar Diameter:\\n    </strong>\\n   </td>\\n   <td class=\"column-2\">\\n    6,752 km\\n    <br/>\\n   </td>\\n  </tr>\\n  <tr class=\"row-3 odd\">\\n   <td class=\"column-1\">\\n    <strong>\\n     Mass:\\n    </strong>\\n   </td>\\n   <td class=\"column-2\">\\n    6.42 x 10^23 kg (10.7% Earth)\\n   </td>\\n  </tr>\\n  <tr class=\"row-4 even\">\\n   <td class=\"column-1\">\\n    <strong>\\n     Moons:\\n    </strong>\\n   </td>\\n   <td class=\"column-2\">\\n    2 (\\n    <a href=\"https://space-facts.com/phobos/\">\\n     Phobos\\n    </a>\\n    &amp;\\n    <a href=\"https://space-facts.com/deimos/\">\\n     Deimos\\n    </a>\\n    )\\n   </td>\\n  </tr>\\n  <tr class=\"row-5 odd\">\\n   <td class=\"column-1\">\\n    <strong>\\n     Orbit Distance:\\n    </strong>\\n   </td>\\n   <td class=\"column-2\">\\n    227,943,824 km (1.52 AU)\\n   </td>\\n  </tr>\\n  <tr class=\"row-6 even\">\\n   <td class=\"column-1\">\\n    <strong>\\n     Orbit Period:\\n    </strong>\\n   </td>\\n   <td class=\"column-2\">\\n    687 days (1.9 years)\\n    <br/>\\n   </td>\\n  </tr>\\n  <tr class=\"row-7 odd\">\\n   <td class=\"column-1\">\\n    <strong>\\n     Surface Temperature:\\n    </strong>\\n   </td>\\n   <td class=\"column-2\">\\n    -153 to 20 °C\\n   </td>\\n  </tr>\\n  <tr class=\"row-8 even\">\\n   <td class=\"column-1\">\\n    <strong>\\n     First Record:\\n    </strong>\\n   </td>\\n   <td class=\"column-2\">\\n    2nd millennium BC\\n   </td>\\n  </tr>\\n  <tr class=\"row-9 odd\">\\n   <td class=\"column-1\">\\n    <strong>\\n     Recorded By:\\n    </strong>\\n   </td>\\n   <td class=\"column-2\">\\n    Egyptian astronomers\\n   </td>\\n  </tr>\\n </tbody>\\n</table>\\n',\n",
       " 'Cerberus': {'title': 'Cerberus Hemisphere',\n",
       "  'img_url': 'http://astropedia.astrogeology.usgs.gov/download/Mars/Viking/cerberus_enhanced.tif/full.jpg'},\n",
       " 'Schiaparelli': {'title': 'Schiaparelli Hemisphere',\n",
       "  'img_url': 'http://astropedia.astrogeology.usgs.gov/download/Mars/Viking/schiaparelli_unenhanced.tif/full.jpg'},\n",
       " 'Syrtis': {'title': 'Syrtis Major Hemisphere',\n",
       "  'img_url': 'http://astropedia.astrogeology.usgs.gov/download/Mars/Viking/syrtis_major_unenhanced.tif/full.jpg'},\n",
       " 'Valles': {'title': 'Valles Marineris Hemisphere',\n",
       "  'img_url': 'http://astropedia.astrogeology.usgs.gov/download/Mars/Viking/valles_marineris_unenhanced.tif/full.jpg'}}"
      ]
     },
     "execution_count": 40,
     "metadata": {},
     "output_type": "execute_result"
    }
   ],
   "source": [
    "scrape_info()"
   ]
  },
  {
   "cell_type": "code",
   "execution_count": null,
   "metadata": {},
   "outputs": [],
   "source": []
  }
 ],
 "metadata": {
  "kernelspec": {
   "display_name": "Python 3",
   "language": "python",
   "name": "python3"
  },
  "language_info": {
   "codemirror_mode": {
    "name": "ipython",
    "version": 3
   },
   "file_extension": ".py",
   "mimetype": "text/x-python",
   "name": "python",
   "nbconvert_exporter": "python",
   "pygments_lexer": "ipython3",
   "version": "3.7.2"
  }
 },
 "nbformat": 4,
 "nbformat_minor": 2
}
